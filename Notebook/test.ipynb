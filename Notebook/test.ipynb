{
 "cells": [
  {
   "cell_type": "code",
   "execution_count": null,
   "metadata": {},
   "outputs": [],
   "source": [
    "import streamlit as st\n",
    "import pandas as pd\n",
    "import os "
   ]
  },
  {
   "cell_type": "code",
   "execution_count": null,
   "metadata": {},
   "outputs": [],
   "source": [
    "\n",
    "def main():\n",
    "    st.sidebar.title(\"Navigation\")\n",
    "    selection = st.sidebar.radio(\"Aller à :\", list(PAGES.keys()))\n",
    "\n",
    "    # Afficher la page sélectionnée\n",
    "    page_function = PAGES[selection]\n",
    "    if page_function:\n",
    "        page_function()\n",
    "        \n",
    "# Ajouter les pages à la fonction principale en fonction de la sélection\n",
    "if __name__ == \"__main__\":\n",
    "    PAGES[\"Accueil\"] = accueil_page\n",
    "    PAGES[\"Créer une convention\"] = creer_convention_page\n",
    "    PAGES[\"Enregistrer une opération\"] = enregistrer_operation_page\n",
    "    main()\n"
   ]
  }
 ],
 "metadata": {
  "language_info": {
   "name": "python"
  }
 },
 "nbformat": 4,
 "nbformat_minor": 2
}
